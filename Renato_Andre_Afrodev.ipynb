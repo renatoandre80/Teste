{
  "nbformat": 4,
  "nbformat_minor": 0,
  "metadata": {
    "colab": {
      "name": "Renato_Andre_Afrodev.ipynb",
      "provenance": [],
      "authorship_tag": "ABX9TyPSezje67JNdDsFYoPswK53",
      "include_colab_link": true
    },
    "kernelspec": {
      "name": "python3",
      "display_name": "Python 3"
    },
    "language_info": {
      "name": "python"
    }
  },
  "cells": [
    {
      "cell_type": "markdown",
      "metadata": {
        "id": "view-in-github",
        "colab_type": "text"
      },
      "source": [
        "<a href=\"https://colab.research.google.com/github/renatoandre80/Teste/blob/main/Renato_Andre_Afrodev.ipynb\" target=\"_parent\"><img src=\"https://colab.research.google.com/assets/colab-badge.svg\" alt=\"Open In Colab\"/></a>"
      ]
    },
    {
      "cell_type": "code",
      "metadata": {
        "colab": {
          "base_uri": "https://localhost:8080/"
        },
        "id": "Db0zU5hDRN_g",
        "outputId": "bfc7118c-c492-4765-a501-e4135ebaa9f9"
      },
      "source": [
        "print('------Em seguida Analisaremos os dados das Olímpiadas------')"
      ],
      "execution_count": 3,
      "outputs": [
        {
          "output_type": "stream",
          "name": "stdout",
          "text": [
            "------Em seguida Analisaremos os dados das Olímpiadas------\n"
          ]
        }
      ]
    },
    {
      "cell_type": "code",
      "metadata": {
        "colab": {
          "base_uri": "https://localhost:8080/"
        },
        "id": "NHYEZ09ZSHI6",
        "outputId": "9180cde4-68ca-44b6-a7c9-046ee0f786a5"
      },
      "source": [
        "print('Iremos saber com base nos dados  os seguintes tópicos:')"
      ],
      "execution_count": 4,
      "outputs": [
        {
          "output_type": "stream",
          "name": "stdout",
          "text": [
            "Iremos saber com base nos dados  os seguintes tópicos:\n"
          ]
        }
      ]
    },
    {
      "cell_type": "code",
      "metadata": {
        "colab": {
          "base_uri": "https://localhost:8080/"
        },
        "id": "j5Jngd6bSVq1",
        "outputId": "43df9d2d-0269-433e-ab56-2320eb88de94"
      },
      "source": [
        "print('•\tTotal de atletas participantes.')\n",
        "print('•\tTotal de participantes homens')\n",
        "print('•\tTotal de participantes mulheres.')\n",
        "print('•\tTotal de participantes por esporte.')\n",
        "print('•\tTotal de medalhas por país.')\n",
        "print('•\tRanking por medalhas totais')\n",
        "print('•\tPaís com mais medalhas de ouro.')\n",
        "print('•\tPaís com mais medalhas de prata.')\n",
        "print('•\tPaís com mais medalhas de bronze')\n",
        "print('•\tPaís com menos medalhas de ouro.')\n",
        "print('•\tPaís com menos medalhas de prata.')\n",
        "print('•\tPaís com menos medalhas de bronze.')\n",
        "print('•\tLista com esportes participantes')\n",
        "print('•\tLista de esportes com mais homens que mulheres.')\n",
        "print('•\tLista de esportes com mais mulheres que homens.')\n",
        "print('•\tQuantidade de treinadores por país.')\n",
        "print('•\tPaís com a maior quantidade de treinadores')\n",
        "print('•\tQuantidade de treinadores por esporte.')\n",
        "print('•\tQuanto times por esporte cada país tem.')"
      ],
      "execution_count": 5,
      "outputs": [
        {
          "output_type": "stream",
          "name": "stdout",
          "text": [
            "•\tTotal de atletas participantes.\n",
            "•\tTotal de participantes homens\n",
            "•\tTotal de participantes mulheres.\n",
            "•\tTotal de participantes por esporte.\n",
            "•\tTotal de medalhas por país.\n",
            "•\tRanking por medalhas totais\n",
            "•\tPaís com mais medalhas de ouro.\n",
            "•\tPaís com mais medalhas de prata.\n",
            "•\tPaís com mais medalhas de bronze\n",
            "•\tPaís com menos medalhas de ouro.\n",
            "•\tPaís com menos medalhas de prata.\n",
            "•\tPaís com menos medalhas de bronze.\n",
            "•\tLista com esportes participantes\n",
            "•\tLista de esportes com mais homens que mulheres.\n",
            "•\tLista de esportes com mais mulheres que homens.\n",
            "•\tQuantidade de treinadores por país.\n",
            "•\tPaís com a maior quantidade de treinadores\n",
            "•\tQuantidade de treinadores por esporte.\n",
            "•\tQuanto times por esporte cada país tem.\n"
          ]
        }
      ]
    },
    {
      "cell_type": "code",
      "metadata": {
        "colab": {
          "base_uri": "https://localhost:8080/"
        },
        "id": "LyRH9c-xUfAI",
        "outputId": "12c138eb-5ba2-432e-9e50-83b5f7dc72e0"
      },
      "source": [
        "print('Importando algumas bibliotecas úteis para a análise os dados:')"
      ],
      "execution_count": 6,
      "outputs": [
        {
          "output_type": "stream",
          "name": "stdout",
          "text": [
            "Importando algumas bibliotecas úteis para a análise os dados:\n"
          ]
        }
      ]
    },
    {
      "cell_type": "code",
      "metadata": {
        "id": "BZn6GuslUo4d"
      },
      "source": [
        "import pandas as pd # principal biblioteca de análise de dados\n",
        "import operator # irá me auxiliar na análise utilizando dicionário"
      ],
      "execution_count": 7,
      "outputs": []
    },
    {
      "cell_type": "code",
      "metadata": {
        "colab": {
          "base_uri": "https://localhost:8080/"
        },
        "id": "RcHpF3eDU32e",
        "outputId": "43d8d797-2ab9-4800-cc91-483a7ee58cc3"
      },
      "source": [
        "print('Carregando os data frame:')"
      ],
      "execution_count": 8,
      "outputs": [
        {
          "output_type": "stream",
          "name": "stdout",
          "text": [
            "Carregando os data frame:\n"
          ]
        }
      ]
    },
    {
      "cell_type": "code",
      "metadata": {
        "id": "NMPOJM8KVCoe"
      },
      "source": [
        "df=pd.read_excel('/content/Athletes.xlsx')\n",
        "df1=pd.read_excel('/content/EntriesGender.xlsx')\n",
        "df2=pd.read_excel('/content/Medals.xlsx')\n",
        "df3=pd.read_excel('/content/Teams.xlsx')\n",
        "df4=pd.read_excel('/content/Coaches.xlsx')"
      ],
      "execution_count": 9,
      "outputs": []
    },
    {
      "cell_type": "code",
      "metadata": {
        "colab": {
          "base_uri": "https://localhost:8080/"
        },
        "id": "nNKe0C4CVdV1",
        "outputId": "a729ce36-2c08-4065-fb5f-af9965208c8d"
      },
      "source": [
        "print('Obtendo informações dos data frames e os dados iniciais:')"
      ],
      "execution_count": 44,
      "outputs": [
        {
          "output_type": "stream",
          "name": "stdout",
          "text": [
            "Obtendo informações dos data frames e os dados iniciais:\n"
          ]
        }
      ]
    },
    {
      "cell_type": "code",
      "metadata": {
        "colab": {
          "base_uri": "https://localhost:8080/"
        },
        "id": "3l8FmHv9Vs2t",
        "outputId": "6f4b8c88-3572-456f-f47c-d0062a4dec2c"
      },
      "source": [
        "print(df.info())"
      ],
      "execution_count": 87,
      "outputs": [
        {
          "output_type": "stream",
          "name": "stdout",
          "text": [
            "<class 'pandas.core.frame.DataFrame'>\n",
            "RangeIndex: 11085 entries, 0 to 11084\n",
            "Data columns (total 3 columns):\n",
            " #   Column      Non-Null Count  Dtype \n",
            "---  ------      --------------  ----- \n",
            " 0   Name        11085 non-null  object\n",
            " 1   NOC         11085 non-null  object\n",
            " 2   Discipline  11085 non-null  object\n",
            "dtypes: object(3)\n",
            "memory usage: 259.9+ KB\n",
            "None\n"
          ]
        }
      ]
    },
    {
      "cell_type": "code",
      "metadata": {
        "colab": {
          "base_uri": "https://localhost:8080/"
        },
        "id": "zpty5_-oZMz5",
        "outputId": "dd19483f-ceba-4b4a-bfca-1c12ee40827c"
      },
      "source": [
        "print(df.head())"
      ],
      "execution_count": 88,
      "outputs": [
        {
          "output_type": "stream",
          "name": "stdout",
          "text": [
            "                Name     NOC           Discipline\n",
            "0    AALERUD Katrine  Norway         Cycling Road\n",
            "1        ABAD Nestor   Spain  Artistic Gymnastics\n",
            "2  ABAGNALE Giovanni   Italy               Rowing\n",
            "3     ABALDE Alberto   Spain           Basketball\n",
            "4      ABALDE Tamara   Spain           Basketball\n"
          ]
        }
      ]
    },
    {
      "cell_type": "code",
      "metadata": {
        "colab": {
          "base_uri": "https://localhost:8080/"
        },
        "id": "eF9-0qHYV4kN",
        "outputId": "8aafcb3b-96d3-4b09-9d33-f34fd64e895a"
      },
      "source": [
        "print(df1.info())"
      ],
      "execution_count": 19,
      "outputs": [
        {
          "output_type": "stream",
          "name": "stdout",
          "text": [
            "<class 'pandas.core.frame.DataFrame'>\n",
            "RangeIndex: 46 entries, 0 to 45\n",
            "Data columns (total 3 columns):\n",
            " #   Column      Non-Null Count  Dtype \n",
            "---  ------      --------------  ----- \n",
            " 0   Discipline  46 non-null     object\n",
            " 1   Female      46 non-null     int64 \n",
            " 2   Male        46 non-null     int64 \n",
            "dtypes: int64(2), object(1)\n",
            "memory usage: 1.2+ KB\n"
          ]
        }
      ]
    },
    {
      "cell_type": "code",
      "metadata": {
        "colab": {
          "base_uri": "https://localhost:8080/",
          "height": 195
        },
        "id": "thg4wSu3ZRY2",
        "outputId": "119a9edf-49cc-4081-e719-118a5e1d1839"
      },
      "source": [
        "print(df1.head())"
      ],
      "execution_count": 39,
      "outputs": [
        {
          "output_type": "execute_result",
          "data": {
            "text/html": [
              "<div>\n",
              "<style scoped>\n",
              "    .dataframe tbody tr th:only-of-type {\n",
              "        vertical-align: middle;\n",
              "    }\n",
              "\n",
              "    .dataframe tbody tr th {\n",
              "        vertical-align: top;\n",
              "    }\n",
              "\n",
              "    .dataframe thead th {\n",
              "        text-align: right;\n",
              "    }\n",
              "</style>\n",
              "<table border=\"1\" class=\"dataframe\">\n",
              "  <thead>\n",
              "    <tr style=\"text-align: right;\">\n",
              "      <th></th>\n",
              "      <th>Discipline</th>\n",
              "      <th>Female</th>\n",
              "      <th>Male</th>\n",
              "    </tr>\n",
              "  </thead>\n",
              "  <tbody>\n",
              "    <tr>\n",
              "      <th>0</th>\n",
              "      <td>3x3 Basketball</td>\n",
              "      <td>32</td>\n",
              "      <td>32</td>\n",
              "    </tr>\n",
              "    <tr>\n",
              "      <th>1</th>\n",
              "      <td>Archery</td>\n",
              "      <td>64</td>\n",
              "      <td>64</td>\n",
              "    </tr>\n",
              "    <tr>\n",
              "      <th>2</th>\n",
              "      <td>Artistic Gymnastics</td>\n",
              "      <td>98</td>\n",
              "      <td>98</td>\n",
              "    </tr>\n",
              "    <tr>\n",
              "      <th>3</th>\n",
              "      <td>Artistic Swimming</td>\n",
              "      <td>105</td>\n",
              "      <td>0</td>\n",
              "    </tr>\n",
              "    <tr>\n",
              "      <th>4</th>\n",
              "      <td>Athletics</td>\n",
              "      <td>969</td>\n",
              "      <td>1072</td>\n",
              "    </tr>\n",
              "  </tbody>\n",
              "</table>\n",
              "</div>"
            ],
            "text/plain": [
              "            Discipline  Female  Male\n",
              "0       3x3 Basketball      32    32\n",
              "1              Archery      64    64\n",
              "2  Artistic Gymnastics      98    98\n",
              "3    Artistic Swimming     105     0\n",
              "4            Athletics     969  1072"
            ]
          },
          "metadata": {},
          "execution_count": 39
        }
      ]
    },
    {
      "cell_type": "code",
      "metadata": {
        "colab": {
          "base_uri": "https://localhost:8080/"
        },
        "id": "qdeuZCLDWEJX",
        "outputId": "1f3e4ca2-839a-439c-a021-0a661033497c"
      },
      "source": [
        "print(df2.info())"
      ],
      "execution_count": 89,
      "outputs": [
        {
          "output_type": "stream",
          "name": "stdout",
          "text": [
            "<class 'pandas.core.frame.DataFrame'>\n",
            "RangeIndex: 93 entries, 0 to 92\n",
            "Data columns (total 6 columns):\n",
            " #   Column                      Non-Null Count  Dtype \n",
            "---  ------                      --------------  ----- \n",
            " 0   Rank                        93 non-null     int64 \n",
            " 1   Team/NOC                    93 non-null     object\n",
            " 2   Gold                        93 non-null     int64 \n",
            " 3   Silver                      93 non-null     int64 \n",
            " 4   Bronze                      93 non-null     int64 \n",
            " 5   Total de medalhas por país  93 non-null     int64 \n",
            "dtypes: int64(5), object(1)\n",
            "memory usage: 4.5+ KB\n",
            "None\n"
          ]
        }
      ]
    },
    {
      "cell_type": "code",
      "metadata": {
        "colab": {
          "base_uri": "https://localhost:8080/"
        },
        "id": "qJoJjDNMZV4R",
        "outputId": "e979444c-20fe-4aa3-a191-4c77be155782"
      },
      "source": [
        "print(df2.head())"
      ],
      "execution_count": 90,
      "outputs": [
        {
          "output_type": "stream",
          "name": "stdout",
          "text": [
            "   Rank                    Team/NOC  ...  Bronze  Total de medalhas por país\n",
            "0     1    United States of America  ...      33                         113\n",
            "1     2  People's Republic of China  ...      18                          88\n",
            "2     3                       Japan  ...      17                          58\n",
            "3     4               Great Britain  ...      22                          65\n",
            "4     5                         ROC  ...      23                          71\n",
            "\n",
            "[5 rows x 6 columns]\n"
          ]
        }
      ]
    },
    {
      "cell_type": "code",
      "metadata": {
        "colab": {
          "base_uri": "https://localhost:8080/"
        },
        "id": "j7K2LZJYWLXN",
        "outputId": "025ce3b9-311b-44da-ddcb-142403fd4253"
      },
      "source": [
        "print(df3.info())"
      ],
      "execution_count": 91,
      "outputs": [
        {
          "output_type": "stream",
          "name": "stdout",
          "text": [
            "<class 'pandas.core.frame.DataFrame'>\n",
            "RangeIndex: 743 entries, 0 to 742\n",
            "Data columns (total 4 columns):\n",
            " #   Column      Non-Null Count  Dtype \n",
            "---  ------      --------------  ----- \n",
            " 0   Name        743 non-null    object\n",
            " 1   Discipline  743 non-null    object\n",
            " 2   NOC         743 non-null    object\n",
            " 3   Event       743 non-null    object\n",
            "dtypes: object(4)\n",
            "memory usage: 23.3+ KB\n",
            "None\n"
          ]
        }
      ]
    },
    {
      "cell_type": "code",
      "metadata": {
        "colab": {
          "base_uri": "https://localhost:8080/"
        },
        "id": "q0YtA63iZamu",
        "outputId": "94e44b03-8b45-4d04-e337-2d50e6e34cb5"
      },
      "source": [
        "print(df3.head())"
      ],
      "execution_count": 92,
      "outputs": [
        {
          "output_type": "stream",
          "name": "stdout",
          "text": [
            "      Name      Discipline                         NOC  Event\n",
            "0  Belgium  3x3 Basketball                     Belgium    Men\n",
            "1    China  3x3 Basketball  People's Republic of China    Men\n",
            "2    China  3x3 Basketball  People's Republic of China  Women\n",
            "3   France  3x3 Basketball                      France  Women\n",
            "4    Italy  3x3 Basketball                       Italy  Women\n"
          ]
        }
      ]
    },
    {
      "cell_type": "code",
      "metadata": {
        "colab": {
          "base_uri": "https://localhost:8080/"
        },
        "id": "xOaUYhObWQAt",
        "outputId": "4cc2c307-3c9f-44c0-b498-a05adee4596b"
      },
      "source": [
        "print(df4.info())"
      ],
      "execution_count": 93,
      "outputs": [
        {
          "output_type": "stream",
          "name": "stdout",
          "text": [
            "<class 'pandas.core.frame.DataFrame'>\n",
            "RangeIndex: 394 entries, 0 to 393\n",
            "Data columns (total 4 columns):\n",
            " #   Column      Non-Null Count  Dtype \n",
            "---  ------      --------------  ----- \n",
            " 0   Name        394 non-null    object\n",
            " 1   NOC         394 non-null    object\n",
            " 2   Discipline  394 non-null    object\n",
            " 3   Event       249 non-null    object\n",
            "dtypes: object(4)\n",
            "memory usage: 12.4+ KB\n",
            "None\n"
          ]
        }
      ]
    },
    {
      "cell_type": "code",
      "metadata": {
        "colab": {
          "base_uri": "https://localhost:8080/"
        },
        "id": "yLGrVQFmZeu_",
        "outputId": "9d4087ac-b9d1-4fd1-f11d-2320941cf325"
      },
      "source": [
        "print(df4.head())"
      ],
      "execution_count": 94,
      "outputs": [
        {
          "output_type": "stream",
          "name": "stdout",
          "text": [
            "              Name            NOC  Discipline Event\n",
            "0  ABDELMAGID Wael          Egypt    Football   NaN\n",
            "1        ABE Junya          Japan  Volleyball   NaN\n",
            "2    ABE Katsuhiko          Japan  Basketball   NaN\n",
            "3     ADAMA Cherif  Côte d'Ivoire    Football   NaN\n",
            "4       AGEBA Yuya          Japan  Volleyball   NaN\n"
          ]
        }
      ]
    },
    {
      "cell_type": "code",
      "metadata": {
        "colab": {
          "base_uri": "https://localhost:8080/"
        },
        "id": "Hmg-tUUEWawd",
        "outputId": "71206e6c-3be1-4af0-be63-1795a0787f51"
      },
      "source": [
        "print('Vamos a análise de dados:')"
      ],
      "execution_count": 63,
      "outputs": [
        {
          "output_type": "stream",
          "name": "stdout",
          "text": [
            "Vamos a análise de dados:\n"
          ]
        }
      ]
    },
    {
      "cell_type": "code",
      "metadata": {
        "colab": {
          "base_uri": "https://localhost:8080/"
        },
        "id": "f81D146SWtcn",
        "outputId": "23b93108-7d3a-4efb-e871-a320a28fb51d"
      },
      "source": [
        "print('Total de atletas participantes ?')"
      ],
      "execution_count": 27,
      "outputs": [
        {
          "output_type": "stream",
          "name": "stdout",
          "text": [
            "Total de atletas participantes ?\n"
          ]
        }
      ]
    },
    {
      "cell_type": "code",
      "metadata": {
        "id": "we9ao-Z-W5aW"
      },
      "source": [
        "def total_atletas():\n",
        "  nome=df['Name'].unique()\n",
        "  total=len(nome)\n",
        "  return (f'O total de atletas é {total}')"
      ],
      "execution_count": 68,
      "outputs": []
    },
    {
      "cell_type": "code",
      "metadata": {
        "colab": {
          "base_uri": "https://localhost:8080/"
        },
        "id": "M70tNQRkXlNJ",
        "outputId": "b8d9a335-7ac2-479a-8b52-4119560ed0ae"
      },
      "source": [
        "print(total_atletas())"
      ],
      "execution_count": 69,
      "outputs": [
        {
          "output_type": "stream",
          "name": "stdout",
          "text": [
            "O total de atletas é 11062\n"
          ]
        }
      ]
    },
    {
      "cell_type": "code",
      "metadata": {
        "colab": {
          "base_uri": "https://localhost:8080/"
        },
        "id": "LlI115cPZwo4",
        "outputId": "091d57d1-96b5-47a2-93ef-a2114e21cfa3"
      },
      "source": [
        "print('Total de participantes homens?')"
      ],
      "execution_count": 46,
      "outputs": [
        {
          "output_type": "stream",
          "name": "stdout",
          "text": [
            "Total de participantes homens?\n"
          ]
        }
      ]
    },
    {
      "cell_type": "code",
      "metadata": {
        "colab": {
          "base_uri": "https://localhost:8080/"
        },
        "id": "oOEcri3hZ8tX",
        "outputId": "c880dd7e-2bae-4741-87a0-17229a2e0b51"
      },
      "source": [
        "print(df1.head()) #para saber se é a base de dados correta:"
      ],
      "execution_count": 95,
      "outputs": [
        {
          "output_type": "stream",
          "name": "stdout",
          "text": [
            "            Discipline  Female  Male  Total de participantes\n",
            "0       3x3 Basketball      32    32                      64\n",
            "1              Archery      64    64                     128\n",
            "2  Artistic Gymnastics      98    98                     196\n",
            "3    Artistic Swimming     105     0                     105\n",
            "4            Athletics     969  1072                    2041\n"
          ]
        }
      ]
    },
    {
      "cell_type": "code",
      "metadata": {
        "colab": {
          "base_uri": "https://localhost:8080/"
        },
        "id": "ppDswpRzatlb",
        "outputId": "cffaf0bd-d950-4314-9abe-8723ecccb615"
      },
      "source": [
        "def total_masculino():\n",
        "  total_masculino=df1['Male'].sum()\n",
        "  return (f'O total de participantes do sexo masculino é {total_masculino}')\n",
        "print(total_masculino())\n"
      ],
      "execution_count": 70,
      "outputs": [
        {
          "output_type": "stream",
          "name": "stdout",
          "text": [
            "O total de participantes do sexo masculino é 5884\n"
          ]
        }
      ]
    },
    {
      "cell_type": "code",
      "metadata": {
        "colab": {
          "base_uri": "https://localhost:8080/"
        },
        "id": "VWKD_xukboNx",
        "outputId": "6f8e0bb7-59ac-46b4-a77c-71c465cd6073"
      },
      "source": [
        "print('O total de participantes mulheres é: ')\n"
      ],
      "execution_count": 52,
      "outputs": [
        {
          "output_type": "stream",
          "name": "stdout",
          "text": [
            "O total de participantes mulheres é: \n"
          ]
        }
      ]
    },
    {
      "cell_type": "code",
      "metadata": {
        "colab": {
          "base_uri": "https://localhost:8080/"
        },
        "id": "AN5zmxf_b4xu",
        "outputId": "a2dfabfb-260e-49ce-e96e-f8d740f17a1b"
      },
      "source": [
        "def total_mulheres():\n",
        "  total_mulheres=df1['Male'].sum()\n",
        "  return (f'O total de participante do sexo feminimo é de {total_mulheres} ')\n",
        "print(total_mulheres())"
      ],
      "execution_count": 71,
      "outputs": [
        {
          "output_type": "stream",
          "name": "stdout",
          "text": [
            "O total de participante do sexo feminimo é de 5884 \n"
          ]
        }
      ]
    },
    {
      "cell_type": "code",
      "metadata": {
        "colab": {
          "base_uri": "https://localhost:8080/"
        },
        "id": "8MlhtzgScUgO",
        "outputId": "a736fa7a-8005-4f3d-f7c9-fb549088d79b"
      },
      "source": [
        "print('O total de participantes por esportes')\n",
        "def total_de_participantes_por_esporte():\n",
        "  df1['Total de participantes']=df1['Female']+df1['Male']\n",
        "  return pd.DataFrame(df1)\n",
        "print(total_de_participantes_por_esporte())"
      ],
      "execution_count": 59,
      "outputs": [
        {
          "output_type": "stream",
          "name": "stdout",
          "text": [
            "O total de participantes por esportes\n",
            "               Discipline  Female  Male  Total de participantes\n",
            "0          3x3 Basketball      32    32                      64\n",
            "1                 Archery      64    64                     128\n",
            "2     Artistic Gymnastics      98    98                     196\n",
            "3       Artistic Swimming     105     0                     105\n",
            "4               Athletics     969  1072                    2041\n",
            "5               Badminton      86    87                     173\n",
            "6       Baseball/Softball      90   144                     234\n",
            "7              Basketball     144   144                     288\n",
            "8        Beach Volleyball      48    48                      96\n",
            "9                  Boxing     102   187                     289\n",
            "10           Canoe Slalom      41    41                      82\n",
            "11           Canoe Sprint     123   126                     249\n",
            "12  Cycling BMX Freestyle      10     9                      19\n",
            "13     Cycling BMX Racing      24    24                      48\n",
            "14  Cycling Mountain Bike      38    38                      76\n",
            "15           Cycling Road      70   131                     201\n",
            "16          Cycling Track      90    99                     189\n",
            "17                 Diving      72    71                     143\n",
            "18             Equestrian      73   125                     198\n",
            "19                Fencing     107   108                     215\n",
            "20               Football     264   344                     608\n",
            "21                   Golf      60    60                     120\n",
            "22               Handball     168   168                     336\n",
            "23                 Hockey     192   192                     384\n",
            "24                   Judo     192   201                     393\n",
            "25                 Karate      40    42                      82\n",
            "26      Marathon Swimming      25    25                      50\n",
            "27      Modern Pentathlon      36    36                      72\n",
            "28    Rhythmic Gymnastics      96     0                      96\n",
            "29                 Rowing     257   265                     522\n",
            "30           Rugby Sevens     146   151                     297\n",
            "31                Sailing     175   175                     350\n",
            "32               Shooting     178   178                     356\n",
            "33          Skateboarding      40    40                      80\n",
            "34         Sport Climbing      20    20                      40\n",
            "35                Surfing      20    20                      40\n",
            "36               Swimming     361   418                     779\n",
            "37           Table Tennis      86    86                     172\n",
            "38              Taekwondo      65    65                     130\n",
            "39                 Tennis      94    97                     191\n",
            "40  Trampoline Gymnastics      16    16                      32\n",
            "41              Triathlon      55    55                     110\n",
            "42             Volleyball     144   144                     288\n",
            "43             Water Polo     122   146                     268\n",
            "44          Weightlifting      98    99                     197\n",
            "45              Wrestling      96   193                     289\n"
          ]
        }
      ]
    },
    {
      "cell_type": "code",
      "metadata": {
        "colab": {
          "base_uri": "https://localhost:8080/"
        },
        "id": "z0pur-KWeMHa",
        "outputId": "96cf346f-da78-46a6-8408-4fa2247d70e4"
      },
      "source": [
        "print('Total de medalhas por país.')\n",
        "print(df2.head())"
      ],
      "execution_count": 60,
      "outputs": [
        {
          "output_type": "stream",
          "name": "stdout",
          "text": [
            "Total de medalhas por país.\n",
            "   Rank                    Team/NOC  Gold  Silver  Bronze\n",
            "0     1    United States of America    39      41      33\n",
            "1     2  People's Republic of China    38      32      18\n",
            "2     3                       Japan    27      14      17\n",
            "3     4               Great Britain    22      21      22\n",
            "4     5                         ROC    20      28      23\n"
          ]
        }
      ]
    },
    {
      "cell_type": "code",
      "metadata": {
        "colab": {
          "base_uri": "https://localhost:8080/"
        },
        "id": "x3wdR31-fIrL",
        "outputId": "c9c13832-1f44-47e5-c107-f6e11da3cc6c"
      },
      "source": [
        "def total_medalhas_pais():\n",
        "  df2['Total de medalhas por país']=df2['Gold']+df2['Silver']+df2['Bronze']\n",
        "  return pd.DataFrame(df2)\n",
        "print(total_medalhas_pais())"
      ],
      "execution_count": 61,
      "outputs": [
        {
          "output_type": "stream",
          "name": "stdout",
          "text": [
            "    Rank                    Team/NOC  ...  Bronze  Total de medalhas por país\n",
            "0      1    United States of America  ...      33                         113\n",
            "1      2  People's Republic of China  ...      18                          88\n",
            "2      3                       Japan  ...      17                          58\n",
            "3      4               Great Britain  ...      22                          65\n",
            "4      5                         ROC  ...      23                          71\n",
            "..   ...                         ...  ...     ...                         ...\n",
            "88    86                       Ghana  ...       1                           1\n",
            "89    86                     Grenada  ...       1                           1\n",
            "90    86                      Kuwait  ...       1                           1\n",
            "91    86         Republic of Moldova  ...       1                           1\n",
            "92    86        Syrian Arab Republic  ...       1                           1\n",
            "\n",
            "[93 rows x 6 columns]\n"
          ]
        }
      ]
    },
    {
      "cell_type": "code",
      "metadata": {
        "colab": {
          "base_uri": "https://localhost:8080/"
        },
        "id": "mRx620a6fdfJ",
        "outputId": "895e2832-52c6-418d-d728-04eb2de6dd81"
      },
      "source": [
        "print('Ranking por medalhas totais:\\n')\n",
        "def ranking_medalhas():\n",
        "  return df2.sort_values(by='Total de medalhas por país',ascending=False)\n",
        "print(ranking_medalhas())"
      ],
      "execution_count": 63,
      "outputs": [
        {
          "output_type": "stream",
          "name": "stdout",
          "text": [
            "Ranking por medalhas totais:\n",
            "\n",
            "    Rank                    Team/NOC  ...  Bronze  Total de medalhas por país\n",
            "0      1    United States of America  ...      33                         113\n",
            "1      2  People's Republic of China  ...      18                          88\n",
            "4      5                         ROC  ...      23                          71\n",
            "3      4               Great Britain  ...      22                          65\n",
            "2      3                       Japan  ...      17                          58\n",
            "..   ...                         ...  ...     ...                         ...\n",
            "77    77                Saudi Arabia  ...       0                           1\n",
            "76    77                     Bahrain  ...       0                           1\n",
            "62    63                     Bermuda  ...       0                           1\n",
            "63    63                     Morocco  ...       0                           1\n",
            "92    86        Syrian Arab Republic  ...       1                           1\n",
            "\n",
            "[93 rows x 6 columns]\n"
          ]
        }
      ]
    },
    {
      "cell_type": "code",
      "metadata": {
        "colab": {
          "base_uri": "https://localhost:8080/"
        },
        "id": "ueGa0wSjh1wi",
        "outputId": "ad5a7a95-f641-4901-a5b3-d4ead97c9917"
      },
      "source": [
        "print('País com mais medalhas de ouro:')\n",
        "def max_ouro():\n",
        "  return print(df2[['Team/NOC', 'Gold']][df2.Gold == df2.Gold.max()])\n",
        "print(max_ouro())"
      ],
      "execution_count": 64,
      "outputs": [
        {
          "output_type": "stream",
          "name": "stdout",
          "text": [
            "País com mais medalhas de ouro:\n",
            "                   Team/NOC  Gold\n",
            "0  United States of America    39\n",
            "None\n"
          ]
        }
      ]
    },
    {
      "cell_type": "code",
      "metadata": {
        "colab": {
          "base_uri": "https://localhost:8080/"
        },
        "id": "qMNZnYV2iZK9",
        "outputId": "a9a0916c-9385-4dbe-c967-c52d257d54cc"
      },
      "source": [
        "print('País com mais medalhas de prata:')\n",
        "def max_prata():\n",
        "  return print(df2[['Team/NOC', 'Silver']][df2.Silver == df2.Silver.max()])\n",
        "print(max_prata())"
      ],
      "execution_count": 65,
      "outputs": [
        {
          "output_type": "stream",
          "name": "stdout",
          "text": [
            "País com mais medalhas de prata:\n",
            "                   Team/NOC  Silver\n",
            "0  United States of America      41\n",
            "None\n"
          ]
        }
      ]
    },
    {
      "cell_type": "code",
      "metadata": {
        "colab": {
          "base_uri": "https://localhost:8080/"
        },
        "id": "0981Lr9FivnO",
        "outputId": "5497bddf-40dd-4c13-d00d-96e54650358e"
      },
      "source": [
        "print('País com mais medalhas de bronze:')\n",
        "def max_bronze():\n",
        "  return print(df2[['Team/NOC', 'Bronze']][df2.Bronze == df2.Bronze.max()])\n",
        "print(max_bronze())"
      ],
      "execution_count": 66,
      "outputs": [
        {
          "output_type": "stream",
          "name": "stdout",
          "text": [
            "País com mais medalhas de bronze:\n",
            "                   Team/NOC  Bronze\n",
            "0  United States of America      33\n",
            "None\n"
          ]
        }
      ]
    },
    {
      "cell_type": "code",
      "metadata": {
        "colab": {
          "base_uri": "https://localhost:8080/"
        },
        "id": "UI4cVyLCjAw9",
        "outputId": "30f114f8-fba6-4e01-d809-bd8fda5a144a"
      },
      "source": [
        "print('País com menos medalhas de Ouro:')\n",
        "def min_ouro():\n",
        "  return print(df2[['Team/NOC', 'Gold']][df2.Gold == df2.Gold.min()])\n",
        "print(min_ouro())"
      ],
      "execution_count": 67,
      "outputs": [
        {
          "output_type": "stream",
          "name": "stdout",
          "text": [
            "País com menos medalhas de Ouro:\n",
            "                Team/NOC  Gold\n",
            "65              Colombia     0\n",
            "66            Azerbaijan     0\n",
            "67    Dominican Republic     0\n",
            "68               Armenia     0\n",
            "69            Kyrgyzstan     0\n",
            "70              Mongolia     0\n",
            "71             Argentina     0\n",
            "72            San Marino     0\n",
            "73                Jordan     0\n",
            "74              Malaysia     0\n",
            "75               Nigeria     0\n",
            "76               Bahrain     0\n",
            "77          Saudi Arabia     0\n",
            "78             Lithuania     0\n",
            "79       North Macedonia     0\n",
            "80               Namibia     0\n",
            "81          Turkmenistan     0\n",
            "82            Kazakhstan     0\n",
            "83                Mexico     0\n",
            "84               Finland     0\n",
            "85              Botswana     0\n",
            "86          Burkina Faso     0\n",
            "87         Côte d'Ivoire     0\n",
            "88                 Ghana     0\n",
            "89               Grenada     0\n",
            "90                Kuwait     0\n",
            "91   Republic of Moldova     0\n",
            "92  Syrian Arab Republic     0\n",
            "None\n"
          ]
        }
      ]
    },
    {
      "cell_type": "code",
      "metadata": {
        "colab": {
          "base_uri": "https://localhost:8080/"
        },
        "id": "HFFDvsCGjbjb",
        "outputId": "46b975db-4d36-4923-ebb7-56ac3f662afc"
      },
      "source": [
        "print('País com menos medalhas de prata:')\n",
        "def min_prata():\n",
        "  return print(df2[['Team/NOC', 'Silver']][df2.Silver == df2.Silver.min()])\n",
        "print(min_prata())"
      ],
      "execution_count": 69,
      "outputs": [
        {
          "output_type": "stream",
          "name": "stdout",
          "text": [
            "País com menos medalhas de prata:\n",
            "                Team/NOC  Silver\n",
            "31            Uzbekistan       0\n",
            "38               Ireland       0\n",
            "39                Israel       0\n",
            "40                 Qatar       0\n",
            "41               Bahamas       0\n",
            "42                Kosovo       0\n",
            "58               Estonia       0\n",
            "59                  Fiji       0\n",
            "60                Latvia       0\n",
            "61              Thailand       0\n",
            "62               Bermuda       0\n",
            "63               Morocco       0\n",
            "64           Puerto Rico       0\n",
            "82            Kazakhstan       0\n",
            "83                Mexico       0\n",
            "84               Finland       0\n",
            "85              Botswana       0\n",
            "86          Burkina Faso       0\n",
            "87         Côte d'Ivoire       0\n",
            "88                 Ghana       0\n",
            "89               Grenada       0\n",
            "90                Kuwait       0\n",
            "91   Republic of Moldova       0\n",
            "92  Syrian Arab Republic       0\n",
            "None\n"
          ]
        }
      ]
    },
    {
      "cell_type": "code",
      "metadata": {
        "colab": {
          "base_uri": "https://localhost:8080/"
        },
        "id": "CxUl6AOKj0E_",
        "outputId": "cc84912c-2317-4dd9-bb92-d414ed589ce5"
      },
      "source": [
        "print('País com menos medalhas de bronze:')\n",
        "def min_bronze():\n",
        "  return print(df2[['Team/NOC', 'Bronze']][df2.Bronze == df2.Bronze.min()])\n",
        "print(min_bronze())"
      ],
      "execution_count": 71,
      "outputs": [
        {
          "output_type": "stream",
          "name": "stdout",
          "text": [
            "País com menos medalhas de bronze:\n",
            "           Team/NOC  Bronze\n",
            "22           Sweden       0\n",
            "37          Ecuador       0\n",
            "41          Bahamas       0\n",
            "42           Kosovo       0\n",
            "45          Romania       0\n",
            "46        Venezuela       0\n",
            "51     South Africa       0\n",
            "57          Tunisia       0\n",
            "62          Bermuda       0\n",
            "63          Morocco       0\n",
            "64      Puerto Rico       0\n",
            "76          Bahrain       0\n",
            "77     Saudi Arabia       0\n",
            "78        Lithuania       0\n",
            "79  North Macedonia       0\n",
            "80          Namibia       0\n",
            "81     Turkmenistan       0\n",
            "None\n"
          ]
        }
      ]
    },
    {
      "cell_type": "code",
      "metadata": {
        "colab": {
          "base_uri": "https://localhost:8080/"
        },
        "id": "faT3PrVOkfn_",
        "outputId": "cd535f24-18c2-427c-e79e-303ab563851a"
      },
      "source": [
        "print('Lista com os esportes participantes:')\n",
        "print(df3)\n",
        "def esportes_participantes():\n",
        "  df3['Discipline'].drop_duplicates()\n",
        "  Esportes_participantes=list(df3['Discipline'].drop_duplicates())\n",
        "  return print(f'A lista com os esportes participantes é {Esportes_participantes}')\n",
        "print(esportes_participantes())"
      ],
      "execution_count": 73,
      "outputs": [
        {
          "output_type": "stream",
          "name": "stdout",
          "text": [
            "Lista com os esportes participantes:\n",
            "              Name      Discipline                         NOC  Event\n",
            "0          Belgium  3x3 Basketball                     Belgium    Men\n",
            "1            China  3x3 Basketball  People's Republic of China    Men\n",
            "2            China  3x3 Basketball  People's Republic of China  Women\n",
            "3           France  3x3 Basketball                      France  Women\n",
            "4            Italy  3x3 Basketball                       Italy  Women\n",
            "..             ...             ...                         ...    ...\n",
            "738   South Africa      Water Polo                South Africa  Women\n",
            "739          Spain      Water Polo                       Spain    Men\n",
            "740          Spain      Water Polo                       Spain  Women\n",
            "741  United States      Water Polo    United States of America    Men\n",
            "742  United States      Water Polo    United States of America  Women\n",
            "\n",
            "[743 rows x 4 columns]\n",
            "A lista com os esportes participantes é ['3x3 Basketball', 'Archery', 'Artistic Gymnastics', 'Artistic Swimming', 'Athletics', 'Baseball/Softball', 'Basketball', 'Beach Volleyball', 'Cycling Track', 'Fencing', 'Football', 'Handball', 'Hockey', 'Rhythmic Gymnastics', 'Rugby Sevens', 'Swimming', 'Table Tennis', 'Triathlon', 'Volleyball', 'Water Polo']\n",
            "None\n"
          ]
        }
      ]
    },
    {
      "cell_type": "code",
      "metadata": {
        "colab": {
          "base_uri": "https://localhost:8080/"
        },
        "id": "rX7brDnNl-qw",
        "outputId": "03bdf521-df28-48c7-a2cc-0503188c7da2"
      },
      "source": [
        "print('Lista de esportes com mais homens que mulheres')\n",
        "print(df1)\n",
        "def esportes_com_mais_homens_que_mulheres():\n",
        "  Esportes_que_tem_mais_homens=df1[['Discipline']][df1.Male > df1.Female]\n",
        "  Lista_homens=[]\n",
        "  for esporte in Esportes_que_tem_mais_homens['Discipline']:\n",
        "    Lista_homens.append(esporte)\n",
        "  return print(f'A lista com todos os esportes no qual existem mais homens que mulheres é : {Lista_homens}')\n",
        "print(esportes_com_mais_homens_que_mulheres())\n",
        "\n"
      ],
      "execution_count": 75,
      "outputs": [
        {
          "output_type": "stream",
          "name": "stdout",
          "text": [
            "Lista de esportes com mais homens que mulheres\n",
            "               Discipline  Female  Male  Total de participantes\n",
            "0          3x3 Basketball      32    32                      64\n",
            "1                 Archery      64    64                     128\n",
            "2     Artistic Gymnastics      98    98                     196\n",
            "3       Artistic Swimming     105     0                     105\n",
            "4               Athletics     969  1072                    2041\n",
            "5               Badminton      86    87                     173\n",
            "6       Baseball/Softball      90   144                     234\n",
            "7              Basketball     144   144                     288\n",
            "8        Beach Volleyball      48    48                      96\n",
            "9                  Boxing     102   187                     289\n",
            "10           Canoe Slalom      41    41                      82\n",
            "11           Canoe Sprint     123   126                     249\n",
            "12  Cycling BMX Freestyle      10     9                      19\n",
            "13     Cycling BMX Racing      24    24                      48\n",
            "14  Cycling Mountain Bike      38    38                      76\n",
            "15           Cycling Road      70   131                     201\n",
            "16          Cycling Track      90    99                     189\n",
            "17                 Diving      72    71                     143\n",
            "18             Equestrian      73   125                     198\n",
            "19                Fencing     107   108                     215\n",
            "20               Football     264   344                     608\n",
            "21                   Golf      60    60                     120\n",
            "22               Handball     168   168                     336\n",
            "23                 Hockey     192   192                     384\n",
            "24                   Judo     192   201                     393\n",
            "25                 Karate      40    42                      82\n",
            "26      Marathon Swimming      25    25                      50\n",
            "27      Modern Pentathlon      36    36                      72\n",
            "28    Rhythmic Gymnastics      96     0                      96\n",
            "29                 Rowing     257   265                     522\n",
            "30           Rugby Sevens     146   151                     297\n",
            "31                Sailing     175   175                     350\n",
            "32               Shooting     178   178                     356\n",
            "33          Skateboarding      40    40                      80\n",
            "34         Sport Climbing      20    20                      40\n",
            "35                Surfing      20    20                      40\n",
            "36               Swimming     361   418                     779\n",
            "37           Table Tennis      86    86                     172\n",
            "38              Taekwondo      65    65                     130\n",
            "39                 Tennis      94    97                     191\n",
            "40  Trampoline Gymnastics      16    16                      32\n",
            "41              Triathlon      55    55                     110\n",
            "42             Volleyball     144   144                     288\n",
            "43             Water Polo     122   146                     268\n",
            "44          Weightlifting      98    99                     197\n",
            "45              Wrestling      96   193                     289\n",
            "A lista com todos os esportes no qual existem mais homens que mulheres é : ['Athletics', 'Badminton', 'Baseball/Softball', 'Boxing', 'Canoe Sprint', 'Cycling Road', 'Cycling Track', 'Equestrian', 'Fencing', 'Football', 'Judo', 'Karate', 'Rowing', 'Rugby Sevens', 'Swimming', 'Tennis', 'Water Polo', 'Weightlifting', 'Wrestling']\n",
            "None\n"
          ]
        }
      ]
    },
    {
      "cell_type": "code",
      "metadata": {
        "colab": {
          "base_uri": "https://localhost:8080/"
        },
        "id": "8L2kkOddnFD7",
        "outputId": "cb2fb02d-dc1e-401c-9f19-9580927c92c2"
      },
      "source": [
        "print('Lista de esportes que tem mais mulheres que homens:\\n')\n",
        "def esportes_com_mais_mulheres_que_homens():\n",
        "  Esportes_que_tem_mais_mulheres=df1[['Discipline']][df1.Female > df1.Male]\n",
        "  Lista_mulheres=[]\n",
        "  for modalidade in Esportes_que_tem_mais_mulheres['Discipline']:\n",
        "    Lista_mulheres.append(modalidade)\n",
        "  return print(f'A lista com todos os esportes no qual existem mais mulheres  que homens é : {Lista_mulheres}')\n",
        "print(esportes_com_mais_mulheres_que_homens())\n"
      ],
      "execution_count": 77,
      "outputs": [
        {
          "output_type": "stream",
          "name": "stdout",
          "text": [
            "Lista de esportes que tem mais mulheres que homens:\n",
            "\n",
            "A lista com todos os esportes no qual existem mais mulheres  que homens é : ['Artistic Swimming', 'Cycling BMX Freestyle', 'Diving', 'Rhythmic Gymnastics']\n",
            "None\n"
          ]
        }
      ]
    },
    {
      "cell_type": "code",
      "metadata": {
        "colab": {
          "base_uri": "https://localhost:8080/"
        },
        "id": "IAcBbumpocMd",
        "outputId": "610b132a-4d57-4d12-b3b0-8eff163084b5"
      },
      "source": [
        "print('Quantidade de treinadores por país:')\n",
        "def quant_treinador_pais():\n",
        "  df4_atualizado=df4.drop_duplicates()\n",
        "  quant_treinador_por_pais=df4_atualizado['NOC'].value_counts()\n",
        "  return quant_treinador_por_pais\n",
        "print(quant_treinador_pais())\n"
      ],
      "execution_count": 82,
      "outputs": [
        {
          "output_type": "stream",
          "name": "stdout",
          "text": [
            "Quantidade de treinadores por país:\n",
            "Japan                       35\n",
            "Spain                       28\n",
            "United States of America    28\n",
            "Australia                   22\n",
            "Canada                      16\n",
            "                            ..\n",
            "Honduras                     1\n",
            "Angola                       1\n",
            "Belarus                      1\n",
            "Croatia                      1\n",
            "Tunisia                      1\n",
            "Name: NOC, Length: 61, dtype: int64\n"
          ]
        }
      ]
    },
    {
      "cell_type": "code",
      "metadata": {
        "colab": {
          "base_uri": "https://localhost:8080/"
        },
        "id": "0_dsZOAhpsZv",
        "outputId": "76fb40bb-e68f-4a0c-d6db-ea4360ad96dd"
      },
      "source": [
        "print('País com maior quantidade de treinadores:')\n",
        "def maior_treinadores():\n",
        "  Dicionario_treinadores=dict(df4_atualizado['NOC'].value_counts())\n",
        "  país_com_mais_treinadores=max(Dicionario_treinadores.items(), key=operator.itemgetter(1))[0]\n",
        "  return print(f'O país com a maior quantidade de treinadores é : {país_com_mais_treinadores}')\n",
        "print(maior_treinadores())"
      ],
      "execution_count": 83,
      "outputs": [
        {
          "output_type": "stream",
          "name": "stdout",
          "text": [
            "País com maior quantidade de treinadores:\n",
            "O país com a maior quantidade de treinadores é : Japan\n",
            "None\n"
          ]
        }
      ]
    },
    {
      "cell_type": "code",
      "metadata": {
        "colab": {
          "base_uri": "https://localhost:8080/"
        },
        "id": "j3fw-GStqVsQ",
        "outputId": "25f61bf1-cee8-4734-ae86-f6c00a016dae"
      },
      "source": [
        "print('Quantidade de treinadores por esporte')\n",
        "def quant_treinador_por_esporte():\n",
        "  quant_treinador_esporte=df4_atualizado['Discipline'].value_counts()\n",
        "  return quant_treinador_esporte\n",
        "print(quant_treinador_por_esporte())"
      ],
      "execution_count": 84,
      "outputs": [
        {
          "output_type": "stream",
          "name": "stdout",
          "text": [
            "Quantidade de treinadores por esporte\n",
            "Basketball           74\n",
            "Artistic Swimming    69\n",
            "Football             59\n",
            "Hockey               45\n",
            "Volleyball           45\n",
            "Handball             29\n",
            "Baseball/Softball    25\n",
            "Rugby Sevens         25\n",
            "Water Polo           22\n",
            "Name: Discipline, dtype: int64\n"
          ]
        }
      ]
    },
    {
      "cell_type": "code",
      "metadata": {
        "colab": {
          "base_uri": "https://localhost:8080/"
        },
        "id": "0ARCvCorrwwh",
        "outputId": "6b29695b-b8a4-4192-c4a6-158ab9698992"
      },
      "source": [
        "print('Quantos times por esportes cada país tem:')\n",
        "def time_por_esporte_pais():\n",
        "  df3.drop_duplicates()\n",
        "  time_por_pais=df3.groupby(['NOC','Discipline'])['NOC'].count()\n",
        "  novo_data=time_por_pais.reset_index(name='contagem')\n",
        "  return novo_data\n",
        "print(time_por_esporte_pais())"
      ],
      "execution_count": 86,
      "outputs": [
        {
          "output_type": "stream",
          "name": "stdout",
          "text": [
            "Quantos times por esportes cada país tem:\n",
            "                          NOC           Discipline  contagem\n",
            "0                      Angola             Handball         1\n",
            "1                   Argentina           Basketball         1\n",
            "2                   Argentina     Beach Volleyball         2\n",
            "3                   Argentina             Football         1\n",
            "4                   Argentina             Handball         1\n",
            "..                        ...                  ...       ...\n",
            "395  United States of America           Water Polo         2\n",
            "396                Uzbekistan  Rhythmic Gymnastics         1\n",
            "397                 Venezuela           Volleyball         1\n",
            "398                   Vietnam              Archery         1\n",
            "399                    Zambia             Football         1\n",
            "\n",
            "[400 rows x 3 columns]\n"
          ]
        }
      ]
    },
    {
      "cell_type": "code",
      "metadata": {
        "colab": {
          "base_uri": "https://localhost:8080/"
        },
        "id": "QOFW4l5I3Fj5",
        "outputId": "3ad19aa3-5a8e-4a70-ecc9-3218ab0ed5d6"
      },
      "source": [
        "print('Analisando um pouco mais os dados:')"
      ],
      "execution_count": 1,
      "outputs": [
        {
          "output_type": "stream",
          "name": "stdout",
          "text": [
            "Analisando um pouco mais os dados:\n"
          ]
        }
      ]
    },
    {
      "cell_type": "code",
      "metadata": {
        "colab": {
          "base_uri": "https://localhost:8080/"
        },
        "id": "h7E8RJd95hpI",
        "outputId": "f422768b-0194-4d80-83ce-24b60e9c854b"
      },
      "source": [
        "print(df1)"
      ],
      "execution_count": 74,
      "outputs": [
        {
          "output_type": "stream",
          "name": "stdout",
          "text": [
            "               Discipline  Female  Male\n",
            "0          3x3 Basketball      32    32\n",
            "1                 Archery      64    64\n",
            "2     Artistic Gymnastics      98    98\n",
            "3       Artistic Swimming     105     0\n",
            "4               Athletics     969  1072\n",
            "5               Badminton      86    87\n",
            "6       Baseball/Softball      90   144\n",
            "7              Basketball     144   144\n",
            "8        Beach Volleyball      48    48\n",
            "9                  Boxing     102   187\n",
            "10           Canoe Slalom      41    41\n",
            "11           Canoe Sprint     123   126\n",
            "12  Cycling BMX Freestyle      10     9\n",
            "13     Cycling BMX Racing      24    24\n",
            "14  Cycling Mountain Bike      38    38\n",
            "15           Cycling Road      70   131\n",
            "16          Cycling Track      90    99\n",
            "17                 Diving      72    71\n",
            "18             Equestrian      73   125\n",
            "19                Fencing     107   108\n",
            "20               Football     264   344\n",
            "21                   Golf      60    60\n",
            "22               Handball     168   168\n",
            "23                 Hockey     192   192\n",
            "24                   Judo     192   201\n",
            "25                 Karate      40    42\n",
            "26      Marathon Swimming      25    25\n",
            "27      Modern Pentathlon      36    36\n",
            "28    Rhythmic Gymnastics      96     0\n",
            "29                 Rowing     257   265\n",
            "30           Rugby Sevens     146   151\n",
            "31                Sailing     175   175\n",
            "32               Shooting     178   178\n",
            "33          Skateboarding      40    40\n",
            "34         Sport Climbing      20    20\n",
            "35                Surfing      20    20\n",
            "36               Swimming     361   418\n",
            "37           Table Tennis      86    86\n",
            "38              Taekwondo      65    65\n",
            "39                 Tennis      94    97\n",
            "40  Trampoline Gymnastics      16    16\n",
            "41              Triathlon      55    55\n",
            "42             Volleyball     144   144\n",
            "43             Water Polo     122   146\n",
            "44          Weightlifting      98    99\n",
            "45              Wrestling      96   193\n"
          ]
        }
      ]
    },
    {
      "cell_type": "code",
      "metadata": {
        "colab": {
          "base_uri": "https://localhost:8080/",
          "height": 284
        },
        "id": "A2j7_pL23Pek",
        "outputId": "172721af-64b8-4af5-e8aa-22aef211e06c"
      },
      "source": [
        "print(df1.describe())"
      ],
      "execution_count": 16,
      "outputs": [
        {
          "output_type": "execute_result",
          "data": {
            "text/html": [
              "<div>\n",
              "<style scoped>\n",
              "    .dataframe tbody tr th:only-of-type {\n",
              "        vertical-align: middle;\n",
              "    }\n",
              "\n",
              "    .dataframe tbody tr th {\n",
              "        vertical-align: top;\n",
              "    }\n",
              "\n",
              "    .dataframe thead th {\n",
              "        text-align: right;\n",
              "    }\n",
              "</style>\n",
              "<table border=\"1\" class=\"dataframe\">\n",
              "  <thead>\n",
              "    <tr style=\"text-align: right;\">\n",
              "      <th></th>\n",
              "      <th>Female</th>\n",
              "      <th>Male</th>\n",
              "    </tr>\n",
              "  </thead>\n",
              "  <tbody>\n",
              "    <tr>\n",
              "      <th>count</th>\n",
              "      <td>46.000000</td>\n",
              "      <td>46.000000</td>\n",
              "    </tr>\n",
              "    <tr>\n",
              "      <th>mean</th>\n",
              "      <td>118.086957</td>\n",
              "      <td>127.913043</td>\n",
              "    </tr>\n",
              "    <tr>\n",
              "      <th>std</th>\n",
              "      <td>147.169717</td>\n",
              "      <td>166.900746</td>\n",
              "    </tr>\n",
              "    <tr>\n",
              "      <th>min</th>\n",
              "      <td>10.000000</td>\n",
              "      <td>0.000000</td>\n",
              "    </tr>\n",
              "    <tr>\n",
              "      <th>25%</th>\n",
              "      <td>42.750000</td>\n",
              "      <td>40.250000</td>\n",
              "    </tr>\n",
              "    <tr>\n",
              "      <th>50%</th>\n",
              "      <td>90.000000</td>\n",
              "      <td>97.500000</td>\n",
              "    </tr>\n",
              "    <tr>\n",
              "      <th>75%</th>\n",
              "      <td>138.750000</td>\n",
              "      <td>149.750000</td>\n",
              "    </tr>\n",
              "    <tr>\n",
              "      <th>max</th>\n",
              "      <td>969.000000</td>\n",
              "      <td>1072.000000</td>\n",
              "    </tr>\n",
              "  </tbody>\n",
              "</table>\n",
              "</div>"
            ],
            "text/plain": [
              "           Female         Male\n",
              "count   46.000000    46.000000\n",
              "mean   118.086957   127.913043\n",
              "std    147.169717   166.900746\n",
              "min     10.000000     0.000000\n",
              "25%     42.750000    40.250000\n",
              "50%     90.000000    97.500000\n",
              "75%    138.750000   149.750000\n",
              "max    969.000000  1072.000000"
            ]
          },
          "metadata": {},
          "execution_count": 16
        }
      ]
    },
    {
      "cell_type": "code",
      "metadata": {
        "colab": {
          "base_uri": "https://localhost:8080/",
          "height": 402
        },
        "id": "X-t9_m2f5sPY",
        "outputId": "7c3c8dbe-00ab-4c2c-f745-b69b4ea6c606"
      },
      "source": [
        "print(df2)"
      ],
      "execution_count": 28,
      "outputs": [
        {
          "output_type": "execute_result",
          "data": {
            "text/html": [
              "<div>\n",
              "<style scoped>\n",
              "    .dataframe tbody tr th:only-of-type {\n",
              "        vertical-align: middle;\n",
              "    }\n",
              "\n",
              "    .dataframe tbody tr th {\n",
              "        vertical-align: top;\n",
              "    }\n",
              "\n",
              "    .dataframe thead th {\n",
              "        text-align: right;\n",
              "    }\n",
              "</style>\n",
              "<table border=\"1\" class=\"dataframe\">\n",
              "  <thead>\n",
              "    <tr style=\"text-align: right;\">\n",
              "      <th></th>\n",
              "      <th>Rank</th>\n",
              "      <th>Team/NOC</th>\n",
              "      <th>Gold</th>\n",
              "      <th>Silver</th>\n",
              "      <th>Bronze</th>\n",
              "    </tr>\n",
              "  </thead>\n",
              "  <tbody>\n",
              "    <tr>\n",
              "      <th>0</th>\n",
              "      <td>1</td>\n",
              "      <td>United States of America</td>\n",
              "      <td>39</td>\n",
              "      <td>41</td>\n",
              "      <td>33</td>\n",
              "    </tr>\n",
              "    <tr>\n",
              "      <th>1</th>\n",
              "      <td>2</td>\n",
              "      <td>People's Republic of China</td>\n",
              "      <td>38</td>\n",
              "      <td>32</td>\n",
              "      <td>18</td>\n",
              "    </tr>\n",
              "    <tr>\n",
              "      <th>2</th>\n",
              "      <td>3</td>\n",
              "      <td>Japan</td>\n",
              "      <td>27</td>\n",
              "      <td>14</td>\n",
              "      <td>17</td>\n",
              "    </tr>\n",
              "    <tr>\n",
              "      <th>3</th>\n",
              "      <td>4</td>\n",
              "      <td>Great Britain</td>\n",
              "      <td>22</td>\n",
              "      <td>21</td>\n",
              "      <td>22</td>\n",
              "    </tr>\n",
              "    <tr>\n",
              "      <th>4</th>\n",
              "      <td>5</td>\n",
              "      <td>ROC</td>\n",
              "      <td>20</td>\n",
              "      <td>28</td>\n",
              "      <td>23</td>\n",
              "    </tr>\n",
              "    <tr>\n",
              "      <th>...</th>\n",
              "      <td>...</td>\n",
              "      <td>...</td>\n",
              "      <td>...</td>\n",
              "      <td>...</td>\n",
              "      <td>...</td>\n",
              "    </tr>\n",
              "    <tr>\n",
              "      <th>88</th>\n",
              "      <td>86</td>\n",
              "      <td>Ghana</td>\n",
              "      <td>0</td>\n",
              "      <td>0</td>\n",
              "      <td>1</td>\n",
              "    </tr>\n",
              "    <tr>\n",
              "      <th>89</th>\n",
              "      <td>86</td>\n",
              "      <td>Grenada</td>\n",
              "      <td>0</td>\n",
              "      <td>0</td>\n",
              "      <td>1</td>\n",
              "    </tr>\n",
              "    <tr>\n",
              "      <th>90</th>\n",
              "      <td>86</td>\n",
              "      <td>Kuwait</td>\n",
              "      <td>0</td>\n",
              "      <td>0</td>\n",
              "      <td>1</td>\n",
              "    </tr>\n",
              "    <tr>\n",
              "      <th>91</th>\n",
              "      <td>86</td>\n",
              "      <td>Republic of Moldova</td>\n",
              "      <td>0</td>\n",
              "      <td>0</td>\n",
              "      <td>1</td>\n",
              "    </tr>\n",
              "    <tr>\n",
              "      <th>92</th>\n",
              "      <td>86</td>\n",
              "      <td>Syrian Arab Republic</td>\n",
              "      <td>0</td>\n",
              "      <td>0</td>\n",
              "      <td>1</td>\n",
              "    </tr>\n",
              "  </tbody>\n",
              "</table>\n",
              "<p>93 rows × 5 columns</p>\n",
              "</div>"
            ],
            "text/plain": [
              "    Rank                    Team/NOC  Gold  Silver  Bronze\n",
              "0      1    United States of America    39      41      33\n",
              "1      2  People's Republic of China    38      32      18\n",
              "2      3                       Japan    27      14      17\n",
              "3      4               Great Britain    22      21      22\n",
              "4      5                         ROC    20      28      23\n",
              "..   ...                         ...   ...     ...     ...\n",
              "88    86                       Ghana     0       0       1\n",
              "89    86                     Grenada     0       0       1\n",
              "90    86                      Kuwait     0       0       1\n",
              "91    86         Republic of Moldova     0       0       1\n",
              "92    86        Syrian Arab Republic     0       0       1\n",
              "\n",
              "[93 rows x 5 columns]"
            ]
          },
          "metadata": {},
          "execution_count": 28
        }
      ]
    },
    {
      "cell_type": "code",
      "metadata": {
        "colab": {
          "base_uri": "https://localhost:8080/"
        },
        "id": "2ZT6FDhu4KCK",
        "outputId": "8c50f0ae-d5d2-4c07-a93f-ad3bd1a11da0"
      },
      "source": [
        "df2_novo=df2.drop('Rank',axis=1)\n",
        "print(df2_novo.describe())"
      ],
      "execution_count": 75,
      "outputs": [
        {
          "output_type": "stream",
          "name": "stdout",
          "text": [
            "            Gold     Silver     Bronze\n",
            "count  93.000000  93.000000  93.000000\n",
            "mean    3.655914   3.634409   4.322581\n",
            "std     7.022471   6.626339   6.210372\n",
            "min     0.000000   0.000000   0.000000\n",
            "25%     0.000000   0.000000   1.000000\n",
            "50%     1.000000   1.000000   2.000000\n",
            "75%     3.000000   4.000000   5.000000\n",
            "max    39.000000  41.000000  33.000000\n"
          ]
        }
      ]
    },
    {
      "cell_type": "code",
      "metadata": {
        "id": "ZtXHyKna70op"
      },
      "source": [
        "import matplotlib.pyplot as plt"
      ],
      "execution_count": 33,
      "outputs": []
    },
    {
      "cell_type": "code",
      "metadata": {
        "colab": {
          "base_uri": "https://localhost:8080/",
          "height": 760
        },
        "id": "UxIIn75Z6gWn",
        "outputId": "107caf23-d5f1-48f3-d410-2cc68b82da6a"
      },
      "source": [
        "print('Gráfico de medalhas de ouro')\n",
        "plt.figure( figsize=(18, 10))\n",
        "df2.groupby(['Team/NOC'])['Gold'].agg('max').sort_values()[:].plot(kind='bar')\n",
        "plt.title('Total de medalhas de ouro')"
      ],
      "execution_count": 40,
      "outputs": [
        {
          "output_type": "execute_result",
          "data": {
            "text/plain": [
              "Text(0.5, 1.0, 'Total de medalhas de ouro')"
            ]
          },
          "metadata": {},
          "execution_count": 40
        },
        {
          "output_type": "display_data",
          "data": {
            "image/png": "[encoded data removed]",
            "text/plain": [
              "<Figure size 1296x720 with 1 Axes>"
            ]
          },
          "metadata": {
            "needs_background": "light"
          }
        }
      ]
    },
    {
      "cell_type": "code",
      "metadata": {
        "colab": {
          "base_uri": "https://localhost:8080/",
          "height": 777
        },
        "id": "N2zkao7S-15h",
        "outputId": "fbbd6368-8aa2-4d43-8a02-25b609732e57"
      },
      "source": [
        "print('Gráfico de medalhas de prata')\n",
        "plt.figure( figsize=(18, 10))\n",
        "df2.groupby(['Team/NOC'])['Silver'].agg('max').sort_values()[:].plot(kind='bar')\n",
        "plt.title('Total de medalhas de prata')"
      ],
      "execution_count": 41,
      "outputs": [
        {
          "output_type": "stream",
          "name": "stdout",
          "text": [
            "Gráfico de medalhas de prata\n"
          ]
        },
        {
          "output_type": "execute_result",
          "data": {
            "text/plain": [
              "Text(0.5, 1.0, 'Total de medalhas de prata')"
            ]
          },
          "metadata": {},
          "execution_count": 41
        },
        {
          "output_type": "display_data",
          "data": {
            "image/png": "[encoded data removed]",
            "text/plain": [
              "<Figure size 1296x720 with 1 Axes>"
            ]
          },
          "metadata": {
            "needs_background": "light"
          }
        }
      ]
    },
    {
      "cell_type": "code",
      "metadata": {
        "colab": {
          "base_uri": "https://localhost:8080/",
          "height": 777
        },
        "id": "CnN5-QM2_DU7",
        "outputId": "98462a35-97af-4766-a47a-264710ad5288"
      },
      "source": [
        "print('Gráfico de medalhas de bronze')\n",
        "plt.figure( figsize=(18, 10))\n",
        "df2.groupby(['Team/NOC'])['Bronze'].agg('max').sort_values()[:].plot(kind='bar')\n",
        "plt.title('Total de medalhas de bronze')"
      ],
      "execution_count": 42,
      "outputs": [
        {
          "output_type": "stream",
          "name": "stdout",
          "text": [
            "Gráfico de medalhas de bronze\n"
          ]
        },
        {
          "output_type": "execute_result",
          "data": {
            "text/plain": [
              "Text(0.5, 1.0, 'Total de medalhas de bronze')"
            ]
          },
          "metadata": {},
          "execution_count": 42
        },
        {
          "output_type": "display_data",
          "data": {
            "image/png": "[encoded data removed]",
            "text/plain": [
              "<Figure size 1296x720 with 1 Axes>"
            ]
          },
          "metadata": {
            "needs_background": "light"
          }
        }
      ]
    },
    {
      "cell_type": "code",
      "metadata": {
        "colab": {
          "base_uri": "https://localhost:8080/"
        },
        "id": "gZljiVFLA3j2",
        "outputId": "0e434daf-0ad0-407d-a9e2-ef7c299fa5a5"
      },
      "source": [
        "print('Analisando o dada frame de gênero')"
      ],
      "execution_count": 43,
      "outputs": [
        {
          "output_type": "stream",
          "name": "stdout",
          "text": [
            "Analisando o dada frame de gênero\n"
          ]
        }
      ]
    },
    {
      "cell_type": "code",
      "metadata": {
        "colab": {
          "base_uri": "https://localhost:8080/"
        },
        "id": "SqnZl7z-A-FT",
        "outputId": "e593b20e-938b-4fa3-d0e2-8af4db3ea889"
      },
      "source": [
        "ausencia_homem=(df1[['Discipline','Male']][df1.Male == df1.Male.min()])\n",
        "print('Os esportes que estão no data frame gênero que não tem homens são:')\n",
        "print(ausencia_homem)"
      ],
      "execution_count": 59,
      "outputs": [
        {
          "output_type": "stream",
          "name": "stdout",
          "text": [
            "Os esportes que estão no data frame gênero que não tem homens são:\n",
            "             Discipline  Male\n",
            "3     Artistic Swimming     0\n",
            "28  Rhythmic Gymnastics     0\n"
          ]
        }
      ]
    },
    {
      "cell_type": "code",
      "metadata": {
        "colab": {
          "base_uri": "https://localhost:8080/"
        },
        "id": "OYXyB67CDxqQ",
        "outputId": "80763f2d-1c3f-43c5-819c-3e1789416e34"
      },
      "source": [
        "print('O esporte por gênero que tem mais homem é:\\n')\n",
        "max_homem=(df1[['Discipline','Male']][df1.Male == df1.Male.max()])\n",
        "print(max_homem)"
      ],
      "execution_count": 58,
      "outputs": [
        {
          "output_type": "stream",
          "name": "stdout",
          "text": [
            "O esporte por gênero que tem mais homem é:\n",
            "\n",
            "  Discipline  Male\n",
            "4  Athletics  1072\n"
          ]
        }
      ]
    },
    {
      "cell_type": "code",
      "metadata": {
        "colab": {
          "base_uri": "https://localhost:8080/"
        },
        "id": "6Z6JKImqGyn_",
        "outputId": "a5b17b4b-55e2-442d-e8cb-592e03b4c14d"
      },
      "source": [
        "print('O esporte por gênero que tem mais mulheres é : \\n')\n",
        "max_mulher=(df1[['Discipline','Female']][df1.Female == df1.Female.max()])\n",
        "print(max_mulher)"
      ],
      "execution_count": 62,
      "outputs": [
        {
          "output_type": "stream",
          "name": "stdout",
          "text": [
            "O esporte por gênero que tem mais mulheres é : \n",
            "\n",
            "  Discipline  Female\n",
            "4  Athletics     969\n"
          ]
        }
      ]
    }
  ]
}